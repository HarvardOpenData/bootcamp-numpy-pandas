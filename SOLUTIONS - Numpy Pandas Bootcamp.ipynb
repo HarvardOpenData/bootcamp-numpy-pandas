{
 "cells": [
  {
   "cell_type": "markdown",
   "metadata": {
    "slideshow": {
     "slide_type": "slide"
    }
   },
   "source": [
    "## NumPy and Pandas Bootcamp\n",
    "\n",
    "Welcome back to another HODP bootcamp! This week, we'll be introducing **NumPy** and **Pandas**, two of the most popular\n",
    "Python libraries used in data science."
   ]
  },
  {
   "cell_type": "markdown",
   "metadata": {
    "slideshow": {
     "slide_type": "subslide"
    }
   },
   "source": [
    "## Python Review\n",
    "Let's review some basic Python before we jump into numpy. Below are some practice problems for you to solve. The problems\n",
    "focus on lists, dictionaries, and functions because these are some of the most important concepts when using Python for\n",
    "data science!\n"
   ]
  },
  {
   "cell_type": "markdown",
   "metadata": {
    "pycharm": {
     "name": "#%% md\n"
    }
   },
   "source": [
    "1. Define a function ```reverse()``` which takes in a list and returns the reverse of the list - so the last element is\n",
    "now the first, the second to last element is now the second, etc."
   ]
  },
  {
   "cell_type": "code",
   "execution_count": 1,
   "metadata": {
    "pycharm": {
     "is_executing": false
    },
    "slideshow": {
     "slide_type": "subslide"
    }
   },
   "outputs": [],
   "source": [
    "def reverse(lst):\n",
    "    # Using a loop:\n",
    "    # newlist = []\n",
    "    # for elem in lst:\n",
    "    #     newlist.insert(0, elem)\n",
    "    # return newlist\n",
    "    \n",
    "    # Using list slicing\n",
    "    return lst[::-1]"
   ]
  },
  {
   "cell_type": "markdown",
   "metadata": {
    "pycharm": {
     "name": "#%% md\n"
    },
    "slideshow": {
     "slide_type": "subslide"
    }
   },
   "source": [
    "2. Define a function ```remove_dupes()``` that removes all duplicate elements of the list. You may choose to preserve the\n",
    "list's order if you like."
   ]
  },
  {
   "cell_type": "code",
   "execution_count": 2,
   "metadata": {
    "pycharm": {
     "is_executing": false
    },
    "slideshow": {
     "slide_type": "subslide"
    }
   },
   "outputs": [],
   "source": [
    "def remove_dupes(lst):\n",
    "    dupes = set()\n",
    "    return_lst = []\n",
    "    for elem in list:\n",
    "        if elem not in dupes:\n",
    "            dupes.add(elem)\n",
    "            return_lst.append(elem)\n",
    "    return return_lst\n",
    "\n",
    "    # Without preserving order (assumes elements in lst are not mutable):\n",
    "    # return list(set(lst))"
   ]
  },
  {
   "cell_type": "markdown",
   "metadata": {
    "pycharm": {
     "name": "#%% md\n"
    },
    "slideshow": {
     "slide_type": "subslide"
    }
   },
   "source": [
    "3. Define a function ```count()``` that takes in a list and returns a dictionary with keys being the unique values in the\n",
    "list and respective values being the number of times they appear in the list. For example, given the list\n",
    "```[\"a\", \"a\", \"b\", \"c\", \"c\"]```, your function should return the dictionary ```{\"a\": 2, \"b\": 1, \"c\": 2}```."
   ]
  },
  {
   "cell_type": "code",
   "execution_count": 3,
   "metadata": {
    "pycharm": {
     "is_executing": false
    },
    "slideshow": {
     "slide_type": "subslide"
    }
   },
   "outputs": [],
   "source": [
    "def count(lst):\n",
    "    count_dict = {}\n",
    "    for elem in lst:\n",
    "        # If the element is not yet in the dictionary, add it with a count of 1\n",
    "        if elem not in count_dict:\n",
    "            count_dict[elem] = 1\n",
    "        # If the element is already in the dictionary, increment the count by 1\n",
    "        else:\n",
    "            count_dict[elem] += 1\n",
    "    return count_dict"
   ]
  },
  {
   "cell_type": "markdown",
   "metadata": {
    "pycharm": {
     "name": "#%% md\n"
    }
   },
   "source": [
    "Now, let's jump right in with numpy!"
   ]
  },
  {
   "cell_type": "markdown",
   "metadata": {
    "slideshow": {
     "slide_type": "slide"
    }
   },
   "source": [
    "## Getting Started\n",
    "\n",
    "Before we can use numpy and pandas, we must first import the libraries into our notebook. You should already have numpy\n",
    "and pandas installed, but if you're having any trouble, call one of the bootcamp leaders and we'll help sort it out\n",
    "for you."
   ]
  },
  {
   "cell_type": "code",
   "execution_count": 4,
   "metadata": {
    "pycharm": {
     "is_executing": false
    },
    "slideshow": {
     "slide_type": "subslide"
    }
   },
   "outputs": [],
   "source": [
    "import numpy as np\n",
    "import pandas as pd"
   ]
  },
  {
   "cell_type": "markdown",
   "metadata": {
    "slideshow": {
     "slide_type": "slide"
    }
   },
   "source": [
    "## Python vs. NumPy\n",
    "Python lists are flexible and they are a powerful tool in many situations. However, bugs are sometimes tough to find\n",
    "and for loops to manipulate data can be slow. On the other hand, NumPy arrays have fixed types, and operations on NumPy\n",
    "arrays are much faster when compared to using lists.\n",
    "\n",
    "What do we mean by numpy arrays having fixed types? Consider the following Python list:"
   ]
  },
  {
   "cell_type": "code",
   "execution_count": 5,
   "metadata": {
    "pycharm": {
     "is_executing": false
    },
    "slideshow": {
     "slide_type": "subslide"
    }
   },
   "outputs": [
    {
     "name": "stdout",
     "output_type": "stream",
     "text": [
      "['Asher', 'Sahana', 1.0, 2]\n"
     ]
    }
   ],
   "source": [
    "lst = [\"Asher\", \"Sahana\", 1.0, 2]\n",
    "print(lst)"
   ]
  },
  {
   "cell_type": "markdown",
   "metadata": {
    "pycharm": {
     "name": "#%% md\n"
    }
   },
   "source": [
    "```lst``` contains strings, floats, and integers. But once we set it as a numpy array, we notice a subtle change:"
   ]
  },
  {
   "cell_type": "code",
   "execution_count": 6,
   "metadata": {
    "pycharm": {
     "is_executing": false
    },
    "slideshow": {
     "slide_type": "subslide"
    }
   },
   "outputs": [
    {
     "name": "stdout",
     "output_type": "stream",
     "text": [
      "['Asher' 'Sahana' '1.0' '2']\n"
     ]
    }
   ],
   "source": [
    "np_lst = np.array(lst)\n",
    "print(np_lst)"
   ]
  },
  {
   "cell_type": "markdown",
   "metadata": {
    "pycharm": {
     "name": "#%% md\n"
    },
    "slideshow": {
     "slide_type": "subslide"
    }
   },
   "source": [
    "Every element is now a string! So numpy arrays can only consist of a single data type. While this may seem like a hindrance,\n",
    "forcing fixed types is why numpy operations execute much faster than equivalent code in Python. You probably won't notice the\n",
    "difference in speed when working with small lists and arrays, but with large datasets the difference is very significant."
   ]
  },
  {
   "cell_type": "markdown",
   "metadata": {
    "slideshow": {
     "slide_type": "slide"
    }
   },
   "source": [
    "## Creating NumPy arrays\n",
    "First, we can use ``np.array`` to create arrays from Python lists:"
   ]
  },
  {
   "cell_type": "code",
   "execution_count": 7,
   "metadata": {
    "pycharm": {
     "is_executing": false
    },
    "slideshow": {
     "slide_type": "fragment"
    }
   },
   "outputs": [
    {
     "data": {
      "text/plain": [
       "array([1, 4, 2, 5, 3])"
      ]
     },
     "execution_count": 7,
     "metadata": {},
     "output_type": "execute_result"
    }
   ],
   "source": [
    "# integer array:\n",
    "np.array([1, 4, 2, 5, 3])"
   ]
  },
  {
   "cell_type": "markdown",
   "metadata": {
    "slideshow": {
     "slide_type": "subslide"
    }
   },
   "source": [
    "If types do not match, NumPy will up-cast if possible. Here, integers are up-cast to floats:"
   ]
  },
  {
   "cell_type": "code",
   "execution_count": 8,
   "metadata": {
    "pycharm": {
     "is_executing": false
    },
    "slideshow": {
     "slide_type": "fragment"
    }
   },
   "outputs": [
    {
     "data": {
      "text/plain": [
       "array([3.14, 4.  , 2.  , 3.  ])"
      ]
     },
     "execution_count": 8,
     "metadata": {},
     "output_type": "execute_result"
    }
   ],
   "source": [
    "np.array([3.14, 4, 2, 3])"
   ]
  },
  {
   "cell_type": "markdown",
   "metadata": {
    "pycharm": {
     "name": "#%% md\n"
    }
   },
   "source": [
    "You can also explicitly set the type by providing a ```dtype``` argument:"
   ]
  },
  {
   "cell_type": "code",
   "execution_count": 9,
   "metadata": {
    "pycharm": {
     "is_executing": false
    },
    "slideshow": {
     "slide_type": "fragment"
    }
   },
   "outputs": [
    {
     "data": {
      "text/plain": [
       "array([1., 2., 3., 4.], dtype=float32)"
      ]
     },
     "execution_count": 9,
     "metadata": {},
     "output_type": "execute_result"
    }
   ],
   "source": [
    "np.array([1, 2, 3, 4], dtype='float32')"
   ]
  },
  {
   "cell_type": "markdown",
   "metadata": {
    "slideshow": {
     "slide_type": "subslide"
    }
   },
   "source": [
    "Numpy has a bunch of handy built-in functions to generate arrays. For example, we can create an array of length 10\n",
    "filled with zeros."
   ]
  },
  {
   "cell_type": "code",
   "execution_count": 10,
   "metadata": {
    "pycharm": {
     "is_executing": false
    },
    "slideshow": {
     "slide_type": "fragment"
    }
   },
   "outputs": [
    {
     "data": {
      "text/plain": [
       "array([0, 0, 0, 0, 0, 0, 0, 0, 0, 0])"
      ]
     },
     "execution_count": 10,
     "metadata": {},
     "output_type": "execute_result"
    }
   ],
   "source": [
    "np.zeros(10, dtype=int)"
   ]
  },
  {
   "cell_type": "markdown",
   "metadata": {
    "pycharm": {
     "name": "#%% md\n"
    }
   },
   "source": [
    "The ```np.arange()``` function works in a very similar way to Python's ```range()``` function. How would you create an\n",
    "array of the first 10 even integers, starting from 0?"
   ]
  },
  {
   "cell_type": "code",
   "execution_count": 11,
   "metadata": {
    "pycharm": {
     "is_executing": false
    },
    "slideshow": {
     "slide_type": "subslide"
    }
   },
   "outputs": [
    {
     "data": {
      "text/plain": [
       "array([ 0,  2,  4,  6,  8, 10, 12, 14, 16, 18])"
      ]
     },
     "execution_count": 11,
     "metadata": {},
     "output_type": "execute_result"
    }
   ],
   "source": [
    "np.arange(0, 20, 2)"
   ]
  },
  {
   "cell_type": "markdown",
   "metadata": {
    "pycharm": {
     "name": "#%% md\n"
    }
   },
   "source": [
    "We can also create matrices by specifying the number of rows and columns as a tuple. The ```np.ones()``` function\n",
    "simply initializes every value in the matrix to 1."
   ]
  },
  {
   "cell_type": "code",
   "execution_count": 12,
   "metadata": {
    "pycharm": {
     "is_executing": false
    }
   },
   "outputs": [
    {
     "data": {
      "text/plain": [
       "array([[1, 1, 1],\n",
       "       [1, 1, 1]])"
      ]
     },
     "execution_count": 12,
     "metadata": {},
     "output_type": "execute_result"
    }
   ],
   "source": [
    "np.ones((2, 3), dtype=int)"
   ]
  },
  {
   "cell_type": "markdown",
   "metadata": {
    "slideshow": {
     "slide_type": "subslide"
    }
   },
   "source": [
    "You can access elements of an array by using slice notation:"
   ]
  },
  {
   "cell_type": "code",
   "execution_count": 13,
   "metadata": {
    "pycharm": {
     "is_executing": false
    },
    "slideshow": {
     "slide_type": "fragment"
    }
   },
   "outputs": [
    {
     "data": {
      "text/plain": [
       "array([1, 2, 3])"
      ]
     },
     "execution_count": 13,
     "metadata": {},
     "output_type": "execute_result"
    }
   ],
   "source": [
    "array = np.arange(9)\n",
    "array[1:4] # returns an array from the first index (inclusive) to the fourth index (exclusive)"
   ]
  },
  {
   "cell_type": "markdown",
   "metadata": {
    "pycharm": {
     "is_executing": false,
     "name": "#%% md\n"
    },
    "slideshow": {
     "slide_type": "fragment"
    }
   },
   "source": [
    "You can access elements of a matrix in a similar fashion by using two slice expressions - the first determines which row(s)\n",
    "to extract, and the second determines which column(s)."
   ]
  },
  {
   "cell_type": "code",
   "execution_count": 14,
   "metadata": {
    "pycharm": {
     "is_executing": false
    },
    "slideshow": {
     "slide_type": "fragment"
    }
   },
   "outputs": [
    {
     "data": {
      "text/plain": [
       "2"
      ]
     },
     "execution_count": 14,
     "metadata": {},
     "output_type": "execute_result"
    }
   ],
   "source": [
    "matrix = np.array([[1, 2, 3],\n",
    "                  [4, 5, 6],\n",
    "                  [7, 8, 9]])\n",
    "# We can get the value 2 by specifying the first row (0th index) and second column (1st index)\n",
    "matrix[0, 1]"
   ]
  },
  {
   "cell_type": "markdown",
   "metadata": {
    "pycharm": {
     "name": "#%% md\n"
    },
    "slideshow": {
     "slide_type": "fragment"
    }
   },
   "source": [
    "How could you extract the second row? Hint: the slice operator ```:``` without any arguments returns the entire array.\n",
    "So a call like ```matrix[:, :]``` would return all rows and all columns - the entire matrix itself!"
   ]
  },
  {
   "cell_type": "code",
   "execution_count": 15,
   "metadata": {
    "pycharm": {
     "is_executing": false,
     "name": "#%%\n"
    }
   },
   "outputs": [
    {
     "data": {
      "text/plain": [
       "array([4, 5, 6])"
      ]
     },
     "execution_count": 15,
     "metadata": {},
     "output_type": "execute_result"
    }
   ],
   "source": [
    "matrix[1, :]"
   ]
  },
  {
   "cell_type": "markdown",
   "metadata": {
    "slideshow": {
     "slide_type": "slide"
    }
   },
   "source": [
    "How could you extract the numbers 7 and 8?"
   ]
  },
  {
   "cell_type": "code",
   "execution_count": 16,
   "metadata": {
    "pycharm": {
     "is_executing": false,
     "name": "#%%\n"
    }
   },
   "outputs": [
    {
     "data": {
      "text/plain": [
       "array([7, 8])"
      ]
     },
     "execution_count": 16,
     "metadata": {},
     "output_type": "execute_result"
    }
   ],
   "source": [
    "matrix[2, :2]"
   ]
  },
  {
   "cell_type": "markdown",
   "metadata": {
    "pycharm": {
     "name": "#%% md\n"
    }
   },
   "source": [
    "As a rule of thumb, don't reinvent the wheel. Google if a function already exists that does what you want!"
   ]
  },
  {
   "cell_type": "markdown",
   "metadata": {
    "slideshow": {
     "slide_type": "slide"
    }
   },
   "source": [
    "## NumPy and Data Analysis\n",
    "Often when faced with a large amount of data, a first step is to compute summary statistics for the data in question.\n",
    "Perhaps the most common summary statistics are the __mean__ and __standard deviation__, which allow you to summarize the\n",
    "\"typical\" values in a dataset, but other aggregates are useful as well (e.g. the sum, product, median, minimum and maximum,\n",
    "quantiles, etc.)."
   ]
  },
  {
   "cell_type": "markdown",
   "metadata": {
    "slideshow": {
     "slide_type": "subslide"
    }
   },
   "source": [
    "Numpy has fast built-in aggregation functions for working on arrays; we'll discuss and demonstrate some of them here.\n",
    "Let's create a large array of random numbers from 0 to 1 and take the sum using Python's function and numpy's."
   ]
  },
  {
   "cell_type": "code",
   "execution_count": 17,
   "metadata": {
    "pycharm": {
     "is_executing": false
    },
    "slideshow": {
     "slide_type": "fragment"
    }
   },
   "outputs": [
    {
     "name": "stdout",
     "output_type": "stream",
     "text": [
      "222 ms ± 4.53 ms per loop (mean ± std. dev. of 7 runs, 10 loops each)\n",
      "688 µs ± 60.3 µs per loop (mean ± std. dev. of 7 runs, 10 loops each)\n"
     ]
    }
   ],
   "source": [
    "big_array = np.random.rand(1000000)\n",
    "\n",
    "# -n 10 means run it 10 times\n",
    "%timeit -n 10 sum(big_array)\n",
    "%timeit -n 10 np.sum(big_array)"
   ]
  },
  {
   "cell_type": "markdown",
   "metadata": {
    "slideshow": {
     "slide_type": "subslide"
    }
   },
   "source": [
    "We can see that numpy's ```sum()``` function is much faster."
   ]
  },
  {
   "cell_type": "markdown",
   "metadata": {
    "slideshow": {
     "slide_type": "subslide"
    }
   },
   "source": [
    "One common type of aggregation operation is an aggregate along a row or column.\n",
    "Say you have some data stored in a two-dimensional array:"
   ]
  },
  {
   "cell_type": "code",
   "execution_count": 18,
   "metadata": {
    "pycharm": {
     "is_executing": false
    },
    "slideshow": {
     "slide_type": "fragment"
    }
   },
   "outputs": [
    {
     "name": "stdout",
     "output_type": "stream",
     "text": [
      "[[0.71149966 0.98388877 0.14908883 0.21163579]\n",
      " [0.21224921 0.42415666 0.96689982 0.17197704]\n",
      " [0.30929644 0.86465987 0.54711802 0.57844837]]\n"
     ]
    }
   ],
   "source": [
    "M = np.random.rand(3, 4)\n",
    "print(M)"
   ]
  },
  {
   "cell_type": "markdown",
   "metadata": {
    "slideshow": {
     "slide_type": "subslide"
    }
   },
   "source": [
    "By default, each NumPy aggregation function will return the aggregate over the entire array:"
   ]
  },
  {
   "cell_type": "code",
   "execution_count": 19,
   "metadata": {
    "pycharm": {
     "is_executing": false
    },
    "slideshow": {
     "slide_type": "fragment"
    }
   },
   "outputs": [
    {
     "data": {
      "text/plain": [
       "0.14908883201248468"
      ]
     },
     "execution_count": 19,
     "metadata": {},
     "output_type": "execute_result"
    }
   ],
   "source": [
    "M.min()"
   ]
  },
  {
   "cell_type": "markdown",
   "metadata": {
    "slideshow": {
     "slide_type": "fragment"
    }
   },
   "source": [
    "But if you wanted to get the minimum of each column, you can specify which **axis** you want your function to act upon:\n",
    "- axis = 0 means your function will act on all rows for each column \n",
    "- axis = 1 means your function will act on all columns for each row\n",
    "\n",
    "So we want to set ```axis=0``` because for each column, we want to take the minimum over all rows."
   ]
  },
  {
   "cell_type": "code",
   "execution_count": 20,
   "metadata": {
    "pycharm": {
     "is_executing": false
    },
    "slideshow": {
     "slide_type": "fragment"
    }
   },
   "outputs": [
    {
     "data": {
      "text/plain": [
       "array([0.21224921, 0.42415666, 0.14908883, 0.17197704])"
      ]
     },
     "execution_count": 20,
     "metadata": {},
     "output_type": "execute_result"
    }
   ],
   "source": [
    "# minimum of each column\n",
    "M.min(axis=0)"
   ]
  },
  {
   "cell_type": "markdown",
   "metadata": {
    "pycharm": {
     "name": "#%% md\n"
    },
    "slideshow": {
     "slide_type": "fragment"
    }
   },
   "source": [
    "How could you get the maximum of each row?"
   ]
  },
  {
   "cell_type": "code",
   "execution_count": 21,
   "metadata": {
    "pycharm": {
     "is_executing": false,
     "name": "#%%\n"
    }
   },
   "outputs": [
    {
     "data": {
      "text/plain": [
       "array([0.98388877, 0.96689982, 0.86465987])"
      ]
     },
     "execution_count": 21,
     "metadata": {},
     "output_type": "execute_result"
    }
   ],
   "source": [
    "M.max(axis=1)"
   ]
  },
  {
   "cell_type": "markdown",
   "metadata": {},
   "source": [
    "Dot product of [1,3,4,5, 6,6,1,1,1,3,3,5,3,31,1,3,5,54,4,313,1,1] and [5,3,9,5, 6,6,1,1,1,-30,3,16,3,31,1,-134,5,54,4,31,15,51]?"
   ]
  },
  {
   "cell_type": "code",
   "execution_count": 3,
   "metadata": {},
   "outputs": [
    {
     "data": {
      "text/plain": [
       "13444"
      ]
     },
     "execution_count": 3,
     "metadata": {},
     "output_type": "execute_result"
    }
   ],
   "source": [
    "np.dot([1,3,4,5, 6,6,1,1,1,3,3,5,3,31,1,3,5,54,4,313,1,1],[5,3,9,5, 6,6,1,1,1,-30,3,16,3,31,1,-134,5,54,4,31,15,51])"
   ]
  },
  {
   "cell_type": "markdown",
   "metadata": {},
   "source": [
    "Broadcasting: (3,2) with (2,)"
   ]
  },
  {
   "cell_type": "code",
   "execution_count": 6,
   "metadata": {},
   "outputs": [
    {
     "data": {
      "text/plain": [
       "array([[  6, 110],\n",
       "       [ 20, 120],\n",
       "       [ 30, 150]])"
      ]
     },
     "execution_count": 6,
     "metadata": {},
     "output_type": "execute_result"
    }
   ],
   "source": [
    "A = np.array([[1,10], [15, 20], [25, 50]])\n",
    "x = np.array([5, 100])\n",
    "A + x"
   ]
  },
  {
   "cell_type": "markdown",
   "metadata": {
    "slideshow": {
     "slide_type": "slide"
    }
   },
   "source": [
    "### Other functions\n",
    "Most aggregates have a ``NaN``-safe counterpart that computes the result while ignoring missing values, which are marked\n",
    "by the special floating-point ``NaN`` value."
   ]
  },
  {
   "cell_type": "markdown",
   "metadata": {
    "slideshow": {
     "slide_type": "fragment"
    }
   },
   "source": [
    "The following table provides a list of useful aggregation functions available in NumPy:\n",
    "\n",
    "|Function Name      |   NaN-safe Version  | Description                                   |\n",
    "|-------------------|---------------------|-----------------------------------------------|\n",
    "| ``np.sum``        | ``np.nansum``       | Compute sum of elements                       |\n",
    "| ``np.prod``       | ``np.nanprod``      | Compute product of elements                   |\n",
    "| ``np.mean``       | ``np.nanmean``      | Compute mean of elements                      |\n",
    "| ``np.std``        | ``np.nanstd``       | Compute standard deviation                    |\n",
    "| ``np.var``        | ``np.nanvar``       | Compute variance                              |\n",
    "| ``np.min``        | ``np.nanmin``       | Find minimum value                            |\n",
    "| ``np.max``        | ``np.nanmax``       | Find maximum value                            |\n",
    "| ``np.argmin``     | ``np.nanargmin``    | Find index of minimum value                   |\n",
    "| ``np.argmax``     | ``np.nanargmax``    | Find index of maximum value                   |\n",
    "| ``np.median``     | ``np.nanmedian``    | Compute median of elements                    |\n",
    "| ``np.percentile`` | ``np.nanpercentile``| Compute rank-based statistics of elements     |\n",
    "| ``np.any``        | N/A                 | Evaluate whether any elements are true        |\n",
    "| ``np.all``        | N/A                 | Evaluate whether all elements are true        |\n",
    "| ``np.concatenate``| N/A                 | Concatenate arrays (without manual copying!)  |"
   ]
  },
  {
   "cell_type": "markdown",
   "metadata": {
    "slideshow": {
     "slide_type": "slide"
    }
   },
   "source": [
    "## Pandas\n",
    "Pandas is another useful library for data analysis. While NumPy is powerful for mathematically-heavy analysis, it relies\n",
    "on __arrays__ of specific data types. Pandas mainly uses two data structures - `Series` and `DataFrames` - that are organized\n",
    "similarly to a spreadsheet. It combines the functionality of Python and NumPy with the ease of use of Google Sheets or Excel."
   ]
  },
  {
   "cell_type": "markdown",
   "metadata": {
    "pycharm": {
     "name": "#%% md\n"
    }
   },
   "source": [
    "We can create DataFrames from Python lists and dictionaries:"
   ]
  },
  {
   "cell_type": "code",
   "execution_count": 22,
   "metadata": {
    "pycharm": {
     "is_executing": false
    },
    "slideshow": {
     "slide_type": "subslide"
    }
   },
   "outputs": [
    {
     "name": "stdout",
     "output_type": "stream",
     "text": [
      "           State  Population Rank\n",
      "0  Massachusetts               15\n",
      "1           Ohio                7\n",
      "2         Alaska               48\n",
      "3     California                1\n",
      "4       Arkansas               33\n"
     ]
    }
   ],
   "source": [
    "states = pd.DataFrame({'State': ['Massachusetts','Ohio','Alaska','California','Arkansas'],\n",
    "                       'Population Rank': [15, 7, 48, 1, 33]})\n",
    "print(states)"
   ]
  },
  {
   "cell_type": "markdown",
   "metadata": {
    "pycharm": {
     "name": "#%% md\n"
    }
   },
   "source": [
    "However, this is often not very useful. Instead, we will usually read in data from another file."
   ]
  },
  {
   "cell_type": "markdown",
   "metadata": {
    "slideshow": {
     "slide_type": "slide"
    }
   },
   "source": [
    "## Activity: House Rankings\n",
    "It's your turn to work with an example dataset! We'll be using pandas to analyze freshman house rankings prior to 2019\n",
    "Housing Day. We will:\n",
    "1. Read in the data from an external file\n",
    "2. Manipulate the data and make it more convenient to use\n",
    "3. Analyze and gather statistics about the data\n",
    "4. Plot our results\n",
    "\n",
    "If you don't remember everything that we discussed about pandas, don't worry! You can find a reference on\n",
    "[HODP Docs](https://hodp-docs.netlify.app/docs/numpy-pandas), and also feel free to ask any questions you may have!"
   ]
  },
  {
   "cell_type": "markdown",
   "metadata": {
    "slideshow": {
     "slide_type": "slide"
    }
   },
   "source": [
    "### Reading in the data\n",
    "First, let's read in the data from the file ```house_rankings_2019.csv``` into a DataFrame called ```rankings``` and print\n",
    "out the first five rows."
   ]
  },
  {
   "cell_type": "code",
   "execution_count": 23,
   "metadata": {
    "pycharm": {
     "is_executing": false
    },
    "slideshow": {
     "slide_type": "fragment"
    }
   },
   "outputs": [
    {
     "data": {
      "text/html": [
       "<div>\n",
       "<style scoped>\n",
       "    .dataframe tbody tr th:only-of-type {\n",
       "        vertical-align: middle;\n",
       "    }\n",
       "\n",
       "    .dataframe tbody tr th {\n",
       "        vertical-align: top;\n",
       "    }\n",
       "\n",
       "    .dataframe thead th {\n",
       "        text-align: right;\n",
       "    }\n",
       "</style>\n",
       "<table border=\"1\" class=\"dataframe\">\n",
       "  <thead>\n",
       "    <tr style=\"text-align: right;\">\n",
       "      <th></th>\n",
       "      <th>House</th>\n",
       "      <th>1</th>\n",
       "      <th>2</th>\n",
       "      <th>3</th>\n",
       "      <th>4</th>\n",
       "      <th>5</th>\n",
       "      <th>6</th>\n",
       "      <th>7</th>\n",
       "      <th>8</th>\n",
       "      <th>9</th>\n",
       "      <th>10</th>\n",
       "      <th>11</th>\n",
       "      <th>12</th>\n",
       "    </tr>\n",
       "  </thead>\n",
       "  <tbody>\n",
       "    <tr>\n",
       "      <th>0</th>\n",
       "      <td>Adams</td>\n",
       "      <td>7</td>\n",
       "      <td>14</td>\n",
       "      <td>19</td>\n",
       "      <td>19</td>\n",
       "      <td>30</td>\n",
       "      <td>20</td>\n",
       "      <td>19</td>\n",
       "      <td>19</td>\n",
       "      <td>24</td>\n",
       "      <td>7</td>\n",
       "      <td>12</td>\n",
       "      <td>13</td>\n",
       "    </tr>\n",
       "    <tr>\n",
       "      <th>1</th>\n",
       "      <td>Cabot</td>\n",
       "      <td>0</td>\n",
       "      <td>3</td>\n",
       "      <td>5</td>\n",
       "      <td>3</td>\n",
       "      <td>7</td>\n",
       "      <td>1</td>\n",
       "      <td>9</td>\n",
       "      <td>8</td>\n",
       "      <td>15</td>\n",
       "      <td>39</td>\n",
       "      <td>52</td>\n",
       "      <td>61</td>\n",
       "    </tr>\n",
       "    <tr>\n",
       "      <th>2</th>\n",
       "      <td>Dunster</td>\n",
       "      <td>11</td>\n",
       "      <td>22</td>\n",
       "      <td>45</td>\n",
       "      <td>29</td>\n",
       "      <td>16</td>\n",
       "      <td>25</td>\n",
       "      <td>17</td>\n",
       "      <td>14</td>\n",
       "      <td>10</td>\n",
       "      <td>4</td>\n",
       "      <td>7</td>\n",
       "      <td>3</td>\n",
       "    </tr>\n",
       "    <tr>\n",
       "      <th>3</th>\n",
       "      <td>Pforzheimer</td>\n",
       "      <td>3</td>\n",
       "      <td>6</td>\n",
       "      <td>7</td>\n",
       "      <td>6</td>\n",
       "      <td>9</td>\n",
       "      <td>11</td>\n",
       "      <td>8</td>\n",
       "      <td>17</td>\n",
       "      <td>26</td>\n",
       "      <td>61</td>\n",
       "      <td>35</td>\n",
       "      <td>14</td>\n",
       "    </tr>\n",
       "    <tr>\n",
       "      <th>4</th>\n",
       "      <td>Winthrop</td>\n",
       "      <td>27</td>\n",
       "      <td>91</td>\n",
       "      <td>23</td>\n",
       "      <td>19</td>\n",
       "      <td>12</td>\n",
       "      <td>7</td>\n",
       "      <td>4</td>\n",
       "      <td>8</td>\n",
       "      <td>3</td>\n",
       "      <td>3</td>\n",
       "      <td>1</td>\n",
       "      <td>5</td>\n",
       "    </tr>\n",
       "  </tbody>\n",
       "</table>\n",
       "</div>"
      ],
      "text/plain": [
       "         House   1   2   3   4   5   6   7   8   9  10  11  12\n",
       "0        Adams   7  14  19  19  30  20  19  19  24   7  12  13\n",
       "1        Cabot   0   3   5   3   7   1   9   8  15  39  52  61\n",
       "2      Dunster  11  22  45  29  16  25  17  14  10   4   7   3\n",
       "3  Pforzheimer   3   6   7   6   9  11   8  17  26  61  35  14\n",
       "4     Winthrop  27  91  23  19  12   7   4   8   3   3   1   5"
      ]
     },
     "execution_count": 23,
     "metadata": {},
     "output_type": "execute_result"
    }
   ],
   "source": [
    "rankings = pd.read_csv(\"house_rankings_2019.csv\")\n",
    "rankings.head()"
   ]
  },
  {
   "cell_type": "markdown",
   "metadata": {
    "slideshow": {
     "slide_type": "fragment"
    }
   },
   "source": [
    "Since each row consists of all the votes for a single house, let's make the index be the name of each house instead of the\n",
    "default numerical index. Try to modify the existing DataFrame instead of creating a new one. Hint: set ```inplace``` as\n",
    "```True``` when you're changing the index."
   ]
  },
  {
   "cell_type": "code",
   "execution_count": 24,
   "metadata": {
    "pycharm": {
     "is_executing": false
    },
    "slideshow": {
     "slide_type": "fragment"
    }
   },
   "outputs": [],
   "source": [
    "rankings.set_index(\"House\", inplace=True)"
   ]
  },
  {
   "cell_type": "markdown",
   "metadata": {
    "slideshow": {
     "slide_type": "slide"
    }
   },
   "source": [
    "### Manipulating the data\n",
    "We can easily extract certain data from our DataFrame. How could you get the number of first place votes for each House?"
   ]
  },
  {
   "cell_type": "code",
   "execution_count": 25,
   "metadata": {
    "pycharm": {
     "is_executing": false
    },
    "slideshow": {
     "slide_type": "fragment"
    }
   },
   "outputs": [
    {
     "data": {
      "text/plain": [
       "House\n",
       "Adams            7\n",
       "Cabot            0\n",
       "Dunster         11\n",
       "Pforzheimer      3\n",
       "Winthrop        27\n",
       "Kirkland         5\n",
       "Quincy           5\n",
       "Lowell         118\n",
       "Mather           9\n",
       "Eliot           15\n",
       "Leverett         3\n",
       "Currier          0\n",
       "Name: 1, dtype: int64"
      ]
     },
     "execution_count": 25,
     "metadata": {},
     "output_type": "execute_result"
    }
   ],
   "source": [
    "rankings.loc[:, \"1\"]\n",
    "# or rankings.iloc[:, 0]"
   ]
  },
  {
   "cell_type": "markdown",
   "metadata": {
    "pycharm": {
     "name": "#%% md\n"
    },
    "slideshow": {
     "slide_type": "fragment"
    }
   },
   "source": [
    "Similarly, how could you get the distribution of votes for Lowell?"
   ]
  },
  {
   "cell_type": "code",
   "execution_count": 26,
   "metadata": {
    "pycharm": {
     "is_executing": false,
     "name": "#%%\n"
    }
   },
   "outputs": [
    {
     "data": {
      "text/plain": [
       "1     118\n",
       "2      28\n",
       "3      19\n",
       "4      12\n",
       "5       6\n",
       "6      10\n",
       "7       4\n",
       "8       2\n",
       "9       3\n",
       "10      1\n",
       "11      0\n",
       "12      0\n",
       "Name: Lowell, dtype: int64"
      ]
     },
     "execution_count": 26,
     "metadata": {},
     "output_type": "execute_result"
    }
   ],
   "source": [
    "rankings.loc[\"Lowell\", :]\n",
    "# or rankings.iloc[7, :]"
   ]
  },
  {
   "cell_type": "markdown",
   "metadata": {
    "slideshow": {
     "slide_type": "subslide"
    }
   },
   "source": [
    "We can also rename data labels pretty easily:"
   ]
  },
  {
   "cell_type": "code",
   "execution_count": 27,
   "metadata": {
    "pycharm": {
     "is_executing": false
    }
   },
   "outputs": [
    {
     "data": {
      "text/html": [
       "<div>\n",
       "<style scoped>\n",
       "    .dataframe tbody tr th:only-of-type {\n",
       "        vertical-align: middle;\n",
       "    }\n",
       "\n",
       "    .dataframe tbody tr th {\n",
       "        vertical-align: top;\n",
       "    }\n",
       "\n",
       "    .dataframe thead th {\n",
       "        text-align: right;\n",
       "    }\n",
       "</style>\n",
       "<table border=\"1\" class=\"dataframe\">\n",
       "  <thead>\n",
       "    <tr style=\"text-align: right;\">\n",
       "      <th></th>\n",
       "      <th>1</th>\n",
       "      <th>2</th>\n",
       "      <th>3</th>\n",
       "      <th>4</th>\n",
       "      <th>5</th>\n",
       "      <th>6</th>\n",
       "      <th>7</th>\n",
       "      <th>8</th>\n",
       "      <th>9</th>\n",
       "      <th>10</th>\n",
       "      <th>11</th>\n",
       "      <th>12</th>\n",
       "    </tr>\n",
       "    <tr>\n",
       "      <th>House</th>\n",
       "      <th></th>\n",
       "      <th></th>\n",
       "      <th></th>\n",
       "      <th></th>\n",
       "      <th></th>\n",
       "      <th></th>\n",
       "      <th></th>\n",
       "      <th></th>\n",
       "      <th></th>\n",
       "      <th></th>\n",
       "      <th></th>\n",
       "      <th></th>\n",
       "    </tr>\n",
       "  </thead>\n",
       "  <tbody>\n",
       "    <tr>\n",
       "      <th>Adams</th>\n",
       "      <td>7</td>\n",
       "      <td>14</td>\n",
       "      <td>19</td>\n",
       "      <td>19</td>\n",
       "      <td>30</td>\n",
       "      <td>20</td>\n",
       "      <td>19</td>\n",
       "      <td>19</td>\n",
       "      <td>24</td>\n",
       "      <td>7</td>\n",
       "      <td>12</td>\n",
       "      <td>13</td>\n",
       "    </tr>\n",
       "    <tr>\n",
       "      <th>Cabot</th>\n",
       "      <td>0</td>\n",
       "      <td>3</td>\n",
       "      <td>5</td>\n",
       "      <td>3</td>\n",
       "      <td>7</td>\n",
       "      <td>1</td>\n",
       "      <td>9</td>\n",
       "      <td>8</td>\n",
       "      <td>15</td>\n",
       "      <td>39</td>\n",
       "      <td>52</td>\n",
       "      <td>61</td>\n",
       "    </tr>\n",
       "    <tr>\n",
       "      <th>Dunster</th>\n",
       "      <td>11</td>\n",
       "      <td>22</td>\n",
       "      <td>45</td>\n",
       "      <td>29</td>\n",
       "      <td>16</td>\n",
       "      <td>25</td>\n",
       "      <td>17</td>\n",
       "      <td>14</td>\n",
       "      <td>10</td>\n",
       "      <td>4</td>\n",
       "      <td>7</td>\n",
       "      <td>3</td>\n",
       "    </tr>\n",
       "    <tr>\n",
       "      <th>Pfoho</th>\n",
       "      <td>3</td>\n",
       "      <td>6</td>\n",
       "      <td>7</td>\n",
       "      <td>6</td>\n",
       "      <td>9</td>\n",
       "      <td>11</td>\n",
       "      <td>8</td>\n",
       "      <td>17</td>\n",
       "      <td>26</td>\n",
       "      <td>61</td>\n",
       "      <td>35</td>\n",
       "      <td>14</td>\n",
       "    </tr>\n",
       "    <tr>\n",
       "      <th>Winthrop</th>\n",
       "      <td>27</td>\n",
       "      <td>91</td>\n",
       "      <td>23</td>\n",
       "      <td>19</td>\n",
       "      <td>12</td>\n",
       "      <td>7</td>\n",
       "      <td>4</td>\n",
       "      <td>8</td>\n",
       "      <td>3</td>\n",
       "      <td>3</td>\n",
       "      <td>1</td>\n",
       "      <td>5</td>\n",
       "    </tr>\n",
       "    <tr>\n",
       "      <th>Kirkland</th>\n",
       "      <td>5</td>\n",
       "      <td>5</td>\n",
       "      <td>11</td>\n",
       "      <td>23</td>\n",
       "      <td>20</td>\n",
       "      <td>30</td>\n",
       "      <td>25</td>\n",
       "      <td>28</td>\n",
       "      <td>20</td>\n",
       "      <td>9</td>\n",
       "      <td>12</td>\n",
       "      <td>15</td>\n",
       "    </tr>\n",
       "    <tr>\n",
       "      <th>Quincy</th>\n",
       "      <td>5</td>\n",
       "      <td>8</td>\n",
       "      <td>26</td>\n",
       "      <td>29</td>\n",
       "      <td>30</td>\n",
       "      <td>28</td>\n",
       "      <td>27</td>\n",
       "      <td>22</td>\n",
       "      <td>13</td>\n",
       "      <td>5</td>\n",
       "      <td>5</td>\n",
       "      <td>5</td>\n",
       "    </tr>\n",
       "    <tr>\n",
       "      <th>Lowell</th>\n",
       "      <td>118</td>\n",
       "      <td>28</td>\n",
       "      <td>19</td>\n",
       "      <td>12</td>\n",
       "      <td>6</td>\n",
       "      <td>10</td>\n",
       "      <td>4</td>\n",
       "      <td>2</td>\n",
       "      <td>3</td>\n",
       "      <td>1</td>\n",
       "      <td>0</td>\n",
       "      <td>0</td>\n",
       "    </tr>\n",
       "    <tr>\n",
       "      <th>Mather</th>\n",
       "      <td>9</td>\n",
       "      <td>6</td>\n",
       "      <td>5</td>\n",
       "      <td>16</td>\n",
       "      <td>19</td>\n",
       "      <td>8</td>\n",
       "      <td>19</td>\n",
       "      <td>24</td>\n",
       "      <td>45</td>\n",
       "      <td>21</td>\n",
       "      <td>8</td>\n",
       "      <td>23</td>\n",
       "    </tr>\n",
       "    <tr>\n",
       "      <th>Eliot</th>\n",
       "      <td>15</td>\n",
       "      <td>12</td>\n",
       "      <td>28</td>\n",
       "      <td>32</td>\n",
       "      <td>28</td>\n",
       "      <td>24</td>\n",
       "      <td>21</td>\n",
       "      <td>17</td>\n",
       "      <td>8</td>\n",
       "      <td>8</td>\n",
       "      <td>8</td>\n",
       "      <td>2</td>\n",
       "    </tr>\n",
       "    <tr>\n",
       "      <th>Leverett</th>\n",
       "      <td>3</td>\n",
       "      <td>5</td>\n",
       "      <td>12</td>\n",
       "      <td>13</td>\n",
       "      <td>21</td>\n",
       "      <td>30</td>\n",
       "      <td>44</td>\n",
       "      <td>35</td>\n",
       "      <td>15</td>\n",
       "      <td>7</td>\n",
       "      <td>10</td>\n",
       "      <td>8</td>\n",
       "    </tr>\n",
       "    <tr>\n",
       "      <th>Currier</th>\n",
       "      <td>0</td>\n",
       "      <td>3</td>\n",
       "      <td>3</td>\n",
       "      <td>2</td>\n",
       "      <td>5</td>\n",
       "      <td>9</td>\n",
       "      <td>6</td>\n",
       "      <td>9</td>\n",
       "      <td>21</td>\n",
       "      <td>38</td>\n",
       "      <td>53</td>\n",
       "      <td>54</td>\n",
       "    </tr>\n",
       "  </tbody>\n",
       "</table>\n",
       "</div>"
      ],
      "text/plain": [
       "            1   2   3   4   5   6   7   8   9  10  11  12\n",
       "House                                                    \n",
       "Adams       7  14  19  19  30  20  19  19  24   7  12  13\n",
       "Cabot       0   3   5   3   7   1   9   8  15  39  52  61\n",
       "Dunster    11  22  45  29  16  25  17  14  10   4   7   3\n",
       "Pfoho       3   6   7   6   9  11   8  17  26  61  35  14\n",
       "Winthrop   27  91  23  19  12   7   4   8   3   3   1   5\n",
       "Kirkland    5   5  11  23  20  30  25  28  20   9  12  15\n",
       "Quincy      5   8  26  29  30  28  27  22  13   5   5   5\n",
       "Lowell    118  28  19  12   6  10   4   2   3   1   0   0\n",
       "Mather      9   6   5  16  19   8  19  24  45  21   8  23\n",
       "Eliot      15  12  28  32  28  24  21  17   8   8   8   2\n",
       "Leverett    3   5  12  13  21  30  44  35  15   7  10   8\n",
       "Currier     0   3   3   2   5   9   6   9  21  38  53  54"
      ]
     },
     "execution_count": 27,
     "metadata": {},
     "output_type": "execute_result"
    }
   ],
   "source": [
    "rankings.rename(index = {'Pforzheimer':'Pfoho'})"
   ]
  },
  {
   "cell_type": "markdown",
   "metadata": {
    "slideshow": {
     "slide_type": "slide"
    }
   },
   "source": [
    "### Analyzing the data\n",
    "We can use Pandas to answer some questions we might have about the data. For example, how can we get the total number of\n",
    "students that filled out the survey?"
   ]
  },
  {
   "cell_type": "code",
   "execution_count": 28,
   "metadata": {
    "pycharm": {
     "is_executing": false
    },
    "slideshow": {
     "slide_type": "fragment"
    }
   },
   "outputs": [
    {
     "name": "stdout",
     "output_type": "stream",
     "text": [
      "203\n"
     ]
    }
   ],
   "source": [
    "# There are many solutions; summing along any row or column will work\n",
    "num = rankings.sum(axis=1)[0]\n",
    "print(num)"
   ]
  },
  {
   "cell_type": "markdown",
   "metadata": {
    "slideshow": {
     "slide_type": "subslide"
    }
   },
   "source": [
    "Which house was the most popular? The least popular? Hint: the ```idxmax()``` function returns the index of the (first)\n",
    "maximum value. Likewise for ```idxmin()```. You may need to break ties."
   ]
  },
  {
   "cell_type": "code",
   "execution_count": 29,
   "metadata": {
    "pycharm": {
     "is_executing": false
    },
    "slideshow": {
     "slide_type": "fragment"
    }
   },
   "outputs": [
    {
     "name": "stdout",
     "output_type": "stream",
     "text": [
      "Lowell\n",
      "Cabot\n"
     ]
    }
   ],
   "source": [
    "print(rankings.iloc[:, 0].idxmax())\n",
    "# We used most last place votes as metric for least popular, which was Cabot.\n",
    "# Currier could also be least popular if metric was least first place votes, with tiebreaker being least second place votes, etc.\n",
    "print(rankings.iloc[:, 11].idxmax())"
   ]
  },
  {
   "cell_type": "markdown",
   "metadata": {
    "slideshow": {
     "slide_type": "subslide"
    }
   },
   "source": [
    "We can sort by popularity too!"
   ]
  },
  {
   "cell_type": "code",
   "execution_count": 30,
   "metadata": {
    "pycharm": {
     "is_executing": false,
     "name": "#%%\n"
    }
   },
   "outputs": [
    {
     "data": {
      "text/html": [
       "<div>\n",
       "<style scoped>\n",
       "    .dataframe tbody tr th:only-of-type {\n",
       "        vertical-align: middle;\n",
       "    }\n",
       "\n",
       "    .dataframe tbody tr th {\n",
       "        vertical-align: top;\n",
       "    }\n",
       "\n",
       "    .dataframe thead th {\n",
       "        text-align: right;\n",
       "    }\n",
       "</style>\n",
       "<table border=\"1\" class=\"dataframe\">\n",
       "  <thead>\n",
       "    <tr style=\"text-align: right;\">\n",
       "      <th></th>\n",
       "      <th>1</th>\n",
       "      <th>2</th>\n",
       "      <th>3</th>\n",
       "      <th>4</th>\n",
       "      <th>5</th>\n",
       "      <th>6</th>\n",
       "      <th>7</th>\n",
       "      <th>8</th>\n",
       "      <th>9</th>\n",
       "      <th>10</th>\n",
       "      <th>11</th>\n",
       "      <th>12</th>\n",
       "    </tr>\n",
       "    <tr>\n",
       "      <th>House</th>\n",
       "      <th></th>\n",
       "      <th></th>\n",
       "      <th></th>\n",
       "      <th></th>\n",
       "      <th></th>\n",
       "      <th></th>\n",
       "      <th></th>\n",
       "      <th></th>\n",
       "      <th></th>\n",
       "      <th></th>\n",
       "      <th></th>\n",
       "      <th></th>\n",
       "    </tr>\n",
       "  </thead>\n",
       "  <tbody>\n",
       "    <tr>\n",
       "      <th>Lowell</th>\n",
       "      <td>118</td>\n",
       "      <td>28</td>\n",
       "      <td>19</td>\n",
       "      <td>12</td>\n",
       "      <td>6</td>\n",
       "      <td>10</td>\n",
       "      <td>4</td>\n",
       "      <td>2</td>\n",
       "      <td>3</td>\n",
       "      <td>1</td>\n",
       "      <td>0</td>\n",
       "      <td>0</td>\n",
       "    </tr>\n",
       "    <tr>\n",
       "      <th>Winthrop</th>\n",
       "      <td>27</td>\n",
       "      <td>91</td>\n",
       "      <td>23</td>\n",
       "      <td>19</td>\n",
       "      <td>12</td>\n",
       "      <td>7</td>\n",
       "      <td>4</td>\n",
       "      <td>8</td>\n",
       "      <td>3</td>\n",
       "      <td>3</td>\n",
       "      <td>1</td>\n",
       "      <td>5</td>\n",
       "    </tr>\n",
       "    <tr>\n",
       "      <th>Eliot</th>\n",
       "      <td>15</td>\n",
       "      <td>12</td>\n",
       "      <td>28</td>\n",
       "      <td>32</td>\n",
       "      <td>28</td>\n",
       "      <td>24</td>\n",
       "      <td>21</td>\n",
       "      <td>17</td>\n",
       "      <td>8</td>\n",
       "      <td>8</td>\n",
       "      <td>8</td>\n",
       "      <td>2</td>\n",
       "    </tr>\n",
       "    <tr>\n",
       "      <th>Dunster</th>\n",
       "      <td>11</td>\n",
       "      <td>22</td>\n",
       "      <td>45</td>\n",
       "      <td>29</td>\n",
       "      <td>16</td>\n",
       "      <td>25</td>\n",
       "      <td>17</td>\n",
       "      <td>14</td>\n",
       "      <td>10</td>\n",
       "      <td>4</td>\n",
       "      <td>7</td>\n",
       "      <td>3</td>\n",
       "    </tr>\n",
       "    <tr>\n",
       "      <th>Mather</th>\n",
       "      <td>9</td>\n",
       "      <td>6</td>\n",
       "      <td>5</td>\n",
       "      <td>16</td>\n",
       "      <td>19</td>\n",
       "      <td>8</td>\n",
       "      <td>19</td>\n",
       "      <td>24</td>\n",
       "      <td>45</td>\n",
       "      <td>21</td>\n",
       "      <td>8</td>\n",
       "      <td>23</td>\n",
       "    </tr>\n",
       "    <tr>\n",
       "      <th>Adams</th>\n",
       "      <td>7</td>\n",
       "      <td>14</td>\n",
       "      <td>19</td>\n",
       "      <td>19</td>\n",
       "      <td>30</td>\n",
       "      <td>20</td>\n",
       "      <td>19</td>\n",
       "      <td>19</td>\n",
       "      <td>24</td>\n",
       "      <td>7</td>\n",
       "      <td>12</td>\n",
       "      <td>13</td>\n",
       "    </tr>\n",
       "    <tr>\n",
       "      <th>Kirkland</th>\n",
       "      <td>5</td>\n",
       "      <td>5</td>\n",
       "      <td>11</td>\n",
       "      <td>23</td>\n",
       "      <td>20</td>\n",
       "      <td>30</td>\n",
       "      <td>25</td>\n",
       "      <td>28</td>\n",
       "      <td>20</td>\n",
       "      <td>9</td>\n",
       "      <td>12</td>\n",
       "      <td>15</td>\n",
       "    </tr>\n",
       "    <tr>\n",
       "      <th>Quincy</th>\n",
       "      <td>5</td>\n",
       "      <td>8</td>\n",
       "      <td>26</td>\n",
       "      <td>29</td>\n",
       "      <td>30</td>\n",
       "      <td>28</td>\n",
       "      <td>27</td>\n",
       "      <td>22</td>\n",
       "      <td>13</td>\n",
       "      <td>5</td>\n",
       "      <td>5</td>\n",
       "      <td>5</td>\n",
       "    </tr>\n",
       "    <tr>\n",
       "      <th>Pforzheimer</th>\n",
       "      <td>3</td>\n",
       "      <td>6</td>\n",
       "      <td>7</td>\n",
       "      <td>6</td>\n",
       "      <td>9</td>\n",
       "      <td>11</td>\n",
       "      <td>8</td>\n",
       "      <td>17</td>\n",
       "      <td>26</td>\n",
       "      <td>61</td>\n",
       "      <td>35</td>\n",
       "      <td>14</td>\n",
       "    </tr>\n",
       "    <tr>\n",
       "      <th>Leverett</th>\n",
       "      <td>3</td>\n",
       "      <td>5</td>\n",
       "      <td>12</td>\n",
       "      <td>13</td>\n",
       "      <td>21</td>\n",
       "      <td>30</td>\n",
       "      <td>44</td>\n",
       "      <td>35</td>\n",
       "      <td>15</td>\n",
       "      <td>7</td>\n",
       "      <td>10</td>\n",
       "      <td>8</td>\n",
       "    </tr>\n",
       "    <tr>\n",
       "      <th>Cabot</th>\n",
       "      <td>0</td>\n",
       "      <td>3</td>\n",
       "      <td>5</td>\n",
       "      <td>3</td>\n",
       "      <td>7</td>\n",
       "      <td>1</td>\n",
       "      <td>9</td>\n",
       "      <td>8</td>\n",
       "      <td>15</td>\n",
       "      <td>39</td>\n",
       "      <td>52</td>\n",
       "      <td>61</td>\n",
       "    </tr>\n",
       "    <tr>\n",
       "      <th>Currier</th>\n",
       "      <td>0</td>\n",
       "      <td>3</td>\n",
       "      <td>3</td>\n",
       "      <td>2</td>\n",
       "      <td>5</td>\n",
       "      <td>9</td>\n",
       "      <td>6</td>\n",
       "      <td>9</td>\n",
       "      <td>21</td>\n",
       "      <td>38</td>\n",
       "      <td>53</td>\n",
       "      <td>54</td>\n",
       "    </tr>\n",
       "  </tbody>\n",
       "</table>\n",
       "</div>"
      ],
      "text/plain": [
       "               1   2   3   4   5   6   7   8   9  10  11  12\n",
       "House                                                       \n",
       "Lowell       118  28  19  12   6  10   4   2   3   1   0   0\n",
       "Winthrop      27  91  23  19  12   7   4   8   3   3   1   5\n",
       "Eliot         15  12  28  32  28  24  21  17   8   8   8   2\n",
       "Dunster       11  22  45  29  16  25  17  14  10   4   7   3\n",
       "Mather         9   6   5  16  19   8  19  24  45  21   8  23\n",
       "Adams          7  14  19  19  30  20  19  19  24   7  12  13\n",
       "Kirkland       5   5  11  23  20  30  25  28  20   9  12  15\n",
       "Quincy         5   8  26  29  30  28  27  22  13   5   5   5\n",
       "Pforzheimer    3   6   7   6   9  11   8  17  26  61  35  14\n",
       "Leverett       3   5  12  13  21  30  44  35  15   7  10   8\n",
       "Cabot          0   3   5   3   7   1   9   8  15  39  52  61\n",
       "Currier        0   3   3   2   5   9   6   9  21  38  53  54"
      ]
     },
     "execution_count": 30,
     "metadata": {},
     "output_type": "execute_result"
    }
   ],
   "source": [
    "rankings.sort_values(by='1',ascending=False)"
   ]
  },
  {
   "cell_type": "markdown",
   "metadata": {
    "slideshow": {
     "slide_type": "subslide"
    }
   },
   "source": [
    "Let's extract the column of first place votes for each house again, but this time, let's change the data from the\n",
    "number of students to the percentage of total students. Hint: given a DataFrame ```df```, numerical expressions involving ```df```\n",
    "will be applied to every value in the DataFrame. For example, ```df * 2``` returns a DataFrame with all its values doubled."
   ]
  },
  {
   "cell_type": "code",
   "execution_count": 31,
   "metadata": {
    "pycharm": {
     "is_executing": false
    },
    "slideshow": {
     "slide_type": "fragment"
    }
   },
   "outputs": [
    {
     "data": {
      "text/plain": [
       "House\n",
       "Adams           3.448276\n",
       "Cabot           0.000000\n",
       "Dunster         5.418719\n",
       "Pforzheimer     1.477833\n",
       "Winthrop       13.300493\n",
       "Kirkland        2.463054\n",
       "Quincy          2.463054\n",
       "Lowell         58.128079\n",
       "Mather          4.433498\n",
       "Eliot           7.389163\n",
       "Leverett        1.477833\n",
       "Currier         0.000000\n",
       "Name: 1, dtype: float64"
      ]
     },
     "execution_count": 31,
     "metadata": {},
     "output_type": "execute_result"
    }
   ],
   "source": [
    "rankings.iloc[:, 0] / num * 100"
   ]
  },
  {
   "cell_type": "markdown",
   "metadata": {
    "slideshow": {
     "slide_type": "subslide"
    }
   },
   "source": [
    "Finally, let's find the average ranking for each house. This will require a weighted average. For example, if a house had\n",
    "25 first place votes, 25 second place votes, and 50 third place votes, the average rating would be\n",
    "$\\frac{(25 * 1) + (25 * 2) + (50 * 3)}{100} = 2.25$."
   ]
  },
  {
   "cell_type": "code",
   "execution_count": 32,
   "metadata": {
    "pycharm": {
     "is_executing": false
    },
    "slideshow": {
     "slide_type": "fragment"
    }
   },
   "outputs": [
    {
     "data": {
      "text/plain": [
       "House\n",
       "Adams           6.389163\n",
       "Cabot          10.000000\n",
       "Dunster         4.975369\n",
       "Pforzheimer     8.669951\n",
       "Winthrop        3.330049\n",
       "Kirkland        6.901478\n",
       "Quincy          5.812808\n",
       "Lowell          2.216749\n",
       "Mather          7.620690\n",
       "Eliot           5.330049\n",
       "Leverett        6.822660\n",
       "Currier         9.931034\n",
       "dtype: float64"
      ]
     },
     "execution_count": 32,
     "metadata": {},
     "output_type": "execute_result"
    }
   ],
   "source": [
    "weighted_rankings = rankings.copy()\n",
    "for i in range(12):\n",
    "    weighted_rankings.iloc[:, i] = rankings.iloc[:, i] * (i + 1)\n",
    "avg_rankings = weighted_rankings.sum(axis=1) / num\n",
    "avg_rankings\n"
   ]
  },
  {
   "cell_type": "markdown",
   "metadata": {
    "pycharm": {
     "name": "#%% md\n"
    }
   },
   "source": [
    "Let's sort the average rankings to see what we have:"
   ]
  },
  {
   "cell_type": "code",
   "execution_count": 33,
   "metadata": {
    "pycharm": {
     "is_executing": false
    }
   },
   "outputs": [
    {
     "data": {
      "text/plain": [
       "House\n",
       "Lowell          2.216749\n",
       "Winthrop        3.330049\n",
       "Dunster         4.975369\n",
       "Eliot           5.330049\n",
       "Quincy          5.812808\n",
       "Adams           6.389163\n",
       "Leverett        6.822660\n",
       "Kirkland        6.901478\n",
       "Mather          7.620690\n",
       "Pforzheimer     8.669951\n",
       "Currier         9.931034\n",
       "Cabot          10.000000\n",
       "dtype: float64"
      ]
     },
     "execution_count": 33,
     "metadata": {},
     "output_type": "execute_result"
    }
   ],
   "source": [
    "avg_rankings.sort_values()"
   ]
  },
  {
   "cell_type": "markdown",
   "metadata": {
    "pycharm": {
     "name": "#%% md\n"
    }
   },
   "source": [
    "Would you look at that! The three most recently renovated houses are at the top, while the Quad houses are at the bottom\n",
    "of the list. It certainly doesn't look like a coincidence, but we can't be certain until we perform some statistical tests.\n",
    "You'll learn how to do that in an upcoming bootcamp."
   ]
  },
  {
   "cell_type": "markdown",
   "metadata": {
    "pycharm": {
     "name": "#%% md\n"
    }
   },
   "source": [
    "The data we have right now is nice and all, but it would be even better if we could summarize our data visually. We can\n",
    "use another library **matplotlib** to create some rudimentary figures:"
   ]
  },
  {
   "cell_type": "code",
   "execution_count": 34,
   "metadata": {
    "pycharm": {
     "is_executing": false
    }
   },
   "outputs": [],
   "source": [
    "import matplotlib"
   ]
  },
  {
   "cell_type": "code",
   "execution_count": 35,
   "metadata": {
    "pycharm": {
     "is_executing": false
    }
   },
   "outputs": [
    {
     "data": {
      "text/plain": [
       "<matplotlib.axes._subplots.AxesSubplot at 0x12fabba23a0>"
      ]
     },
     "execution_count": 35,
     "metadata": {},
     "output_type": "execute_result"
    },
    {
     "data": {
      "image/png": "[encoded data removed]",
      "text/plain": [
       "<Figure size 432x288 with 1 Axes>"
      ]
     },
     "metadata": {
      "needs_background": "light"
     },
     "output_type": "display_data"
    }
   ],
   "source": [
    "rankings.plot()"
   ]
  },
  {
   "cell_type": "code",
   "execution_count": 36,
   "metadata": {
    "pycharm": {
     "is_executing": false
    }
   },
   "outputs": [
    {
     "data": {
      "text/plain": [
       "<matplotlib.axes._subplots.AxesSubplot at 0x12fadcf6dc0>"
      ]
     },
     "execution_count": 36,
     "metadata": {},
     "output_type": "execute_result"
    },
    {
     "data": {
      "image/png": "[encoded data removed]",
      "text/plain": [
       "<Figure size 432x288 with 1 Axes>"
      ]
     },
     "metadata": {
      "needs_background": "light"
     },
     "output_type": "display_data"
    }
   ],
   "source": [
    "avg_rankings.plot.bar()"
   ]
  },
  {
   "cell_type": "code",
   "execution_count": 37,
   "metadata": {
    "pycharm": {
     "is_executing": false,
     "name": "#%%\n"
    }
   },
   "outputs": [
    {
     "data": {
      "image/png": "[encoded data removed]",
      "text/plain": [
       "<Figure size 432x288 with 1 Axes>"
      ]
     },
     "metadata": {},
     "output_type": "display_data"
    }
   ],
   "source": [
    "matplotlib.style.use('ggplot')\n",
    "rankings[0:4].plot.bar(stacked=True);"
   ]
  },
  {
   "cell_type": "markdown",
   "metadata": {
    "pycharm": {
     "name": "#%% md\n"
    }
   },
   "source": [
    "There will also be bootcamps on data visualization, so stay tuned for those as well!"
   ]
  }
 ],
 "metadata": {
  "celltoolbar": "Slideshow",
  "kernelspec": {
   "display_name": "Python 3",
   "language": "python",
   "name": "python3"
  },
  "language_info": {
   "codemirror_mode": {
    "name": "ipython",
    "version": 3
   },
   "file_extension": ".py",
   "mimetype": "text/x-python",
   "name": "python",
   "nbconvert_exporter": "python",
   "pygments_lexer": "ipython3",
   "version": "3.8.3"
  },
  "pycharm": {
   "stem_cell": {
    "cell_type": "raw",
    "metadata": {
     "collapsed": false
    },
    "source": []
   }
  }
 },
 "nbformat": 4,
 "nbformat_minor": 2
}
